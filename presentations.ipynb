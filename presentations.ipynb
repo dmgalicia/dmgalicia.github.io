{
  "cells": [
    {
      "cell_type": "raw",
      "metadata": {},
      "source": [
        "---\n",
        "format: \n",
        "  html:\n",
        "    toc: true\n",
        "    toc-depth: 4\n",
        "---"
      ],
      "id": "57912ac8"
    },
    {
      "cell_type": "markdown",
      "metadata": {},
      "source": [
        "```{css, echo = FALSE}\n",
        ".line {\n",
        "  line-height: 1.0;\n",
        "}\n",
        "```\n",
        "\n",
        "\n",
        "## Presentations\n",
        "\n",
        "#### 2023\n",
        "\n",
        "::: line\n",
        "Taller Introductorio a la Ciencia de datos.\n",
        "\n",
        "Primera jornada académica de ingenierías, Universidad de Xalapa (07/03/2023).\n",
        ":::"
      ],
      "id": "2b094667"
    }
  ],
  "metadata": {
    "kernelspec": {
      "display_name": "Python 3",
      "language": "python",
      "name": "python3"
    }
  },
  "nbformat": 4,
  "nbformat_minor": 5
}